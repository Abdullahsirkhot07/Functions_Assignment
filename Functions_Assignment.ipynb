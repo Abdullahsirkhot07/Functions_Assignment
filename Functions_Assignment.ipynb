{
  "cells": [
    {
      "cell_type": "markdown",
      "id": "cfa48998",
      "metadata": {
        "id": "cfa48998"
      },
      "source": [
        "# Polymorphism, Encapsulation & Functions Assignment"
      ]
    },
    {
      "cell_type": "markdown",
      "id": "0d48e1cd",
      "metadata": {
        "id": "0d48e1cd"
      },
      "source": [
        "## Theory Questions"
      ]
    },
    {
      "cell_type": "markdown",
      "id": "92d0ac9d",
      "metadata": {
        "id": "92d0ac9d"
      },
      "source": [
        "**1. What is the difference between a function and a method in Python?**\n",
        "\n",
        "*Answer:*\n",
        "\n",
        "A **function** is defined using `def` and can be standalone. A **method** is a function that is associated with an object (like a list or string). Example: `len()` is a function, `list.append()` is a method."
      ]
    },
    {
      "cell_type": "markdown",
      "id": "435055f2",
      "metadata": {
        "id": "435055f2"
      },
      "source": [
        "**2. Explain the concept of function arguments and parameters in Python.**\n",
        "\n",
        "*Answer:*\n",
        "\n",
        "**Arguments** are values passed to functions, while **parameters** are variables that receive these values. Example: `def greet(name):` — `name` is a parameter, `greet('Ali')` — `'Ali'` is an argument."
      ]
    },
    {
      "cell_type": "markdown",
      "id": "0d8ce017",
      "metadata": {
        "id": "0d8ce017"
      },
      "source": [
        "**3. What are the different ways to define and call a function in Python?**\n",
        "\n",
        "*Answer:*\n",
        "\n",
        "Functions can be defined using `def` or `lambda`, and called by using parentheses. Example: `def add(x, y): return x + y`, called as `add(2, 3)`."
      ]
    },
    {
      "cell_type": "markdown",
      "id": "782d0407",
      "metadata": {
        "id": "782d0407"
      },
      "source": [
        "**4. What is the purpose of the `return` statement in a Python function?**\n",
        "\n",
        "*Answer:*\n",
        "\n",
        "The `return` statement exits a function and optionally passes a value back to the caller. Example: `def add(x, y): return x + y`."
      ]
    },
    {
      "cell_type": "markdown",
      "id": "6c219b53",
      "metadata": {
        "id": "6c219b53"
      },
      "source": [
        "**5. What are iterators in Python and how do they differ from iterables?**\n",
        "\n",
        "*Answer:*\n",
        "\n",
        "**Iterables** can be looped over (like lists). **Iterators** are objects with `__next__()` method. All iterators are iterables, but not vice versa."
      ]
    },
    {
      "cell_type": "markdown",
      "id": "5891f821",
      "metadata": {
        "id": "5891f821"
      },
      "source": [
        "**6. Explain the concept of generators in Python and how they are defined.**\n",
        "\n",
        "*Answer:*\n",
        "\n",
        "Generators are functions that use `yield` instead of `return` and generate values one at a time. Example:\n",
        "```python\n",
        "def gen():\n",
        "    for i in range(3):\n",
        "        yield i\n",
        "```"
      ]
    },
    {
      "cell_type": "markdown",
      "id": "61dfe9e1",
      "metadata": {
        "id": "61dfe9e1"
      },
      "source": [
        "**7. What are the advantages of using generators over regular functions?**\n",
        "\n",
        "*Answer:*\n",
        "\n",
        "Generators are memory-efficient, lazy (compute values when needed), and easier to implement than iterator classes."
      ]
    },
    {
      "cell_type": "markdown",
      "id": "9d89c85b",
      "metadata": {
        "id": "9d89c85b"
      },
      "source": [
        "**8. What is a lambda function in Python and when is it typically used?**\n",
        "\n",
        "*Answer:*\n",
        "\n",
        "A lambda function is an anonymous function defined with `lambda`. Used for short functions. Example: `lambda x: x + 1`."
      ]
    },
    {
      "cell_type": "markdown",
      "id": "888ccb8c",
      "metadata": {
        "id": "888ccb8c"
      },
      "source": [
        "**9. Explain the purpose and usage of the `map()` function in Python.**\n",
        "\n",
        "*Answer:*\n",
        "\n",
        "`map()` applies a function to all items in an iterable. Example: `map(lambda x: x*2, [1, 2, 3])` returns `[2, 4, 6]`."
      ]
    },
    {
      "cell_type": "markdown",
      "id": "9c6ce614",
      "metadata": {
        "id": "9c6ce614"
      },
      "source": [
        "**10. What is the difference between `map()`, `reduce()`, and `filter()` functions in Python?**\n",
        "\n",
        "*Answer:*\n",
        "\n",
        "`map()` applies a function to each element. `filter()` filters elements by a condition. `reduce()` (from `functools`) reduces to a single value."
      ]
    },
    {
      "cell_type": "markdown",
      "id": "4d145500",
      "metadata": {
        "id": "4d145500"
      },
      "source": [
        "**11. Using pen & paper, write the internal mechanism for sum operation using `reduce()` on list: [47, 11, 42, 13]. (Attach image)**\n",
        "\n",
        "*Answer:*\n",
        "\n",
        "*Please attach a hand-written diagram showing step-by-step summing with reduce on [47, 11, 42, 13]*:\n",
        "47+11=58 → 58+42=100 → 100+13=113"
      ]
    },
    {
      "cell_type": "markdown",
      "id": "9e382d77",
      "metadata": {
        "id": "9e382d77"
      },
      "source": [
        "## Practical Questions"
      ]
    },
    {
      "cell_type": "markdown",
      "id": "9eb84225",
      "metadata": {
        "id": "9eb84225"
      },
      "source": [
        "**1. Write a Python function that takes a list of numbers as input and returns the sum of all even numbers in the list.**"
      ]
    },
    {
      "cell_type": "code",
      "execution_count": 17,
      "id": "5c1f1ea0",
      "metadata": {
        "id": "5c1f1ea0"
      },
      "outputs": [],
      "source": [
        "def sum_even(numbers):\n",
        "    return sum(n for n in numbers if n % 2 == 0)"
      ]
    },
    {
      "cell_type": "markdown",
      "id": "65c34c83",
      "metadata": {
        "id": "65c34c83"
      },
      "source": [
        "**2. Create a Python function that accepts a string and returns the reverse of that string.**"
      ]
    },
    {
      "cell_type": "code",
      "execution_count": 18,
      "id": "afa9c699",
      "metadata": {
        "id": "afa9c699"
      },
      "outputs": [],
      "source": [
        "def reverse_string(s):\n",
        "    return s[::-1]"
      ]
    },
    {
      "cell_type": "markdown",
      "id": "ef40e157",
      "metadata": {
        "id": "ef40e157"
      },
      "source": [
        "**3. Implement a Python function that takes a list of integers and returns a new list containing the squares of each number.**"
      ]
    },
    {
      "cell_type": "code",
      "execution_count": 19,
      "id": "655211a7",
      "metadata": {
        "id": "655211a7"
      },
      "outputs": [],
      "source": [
        "def square_list(lst):\n",
        "    return [x**2 for x in lst]"
      ]
    },
    {
      "cell_type": "markdown",
      "id": "53511016",
      "metadata": {
        "id": "53511016"
      },
      "source": [
        "**4. Write a Python function that checks if a given number is prime or not from 1 to 200.**"
      ]
    },
    {
      "cell_type": "code",
      "execution_count": 5,
      "id": "74c3faef",
      "metadata": {
        "colab": {
          "base_uri": "https://localhost:8080/"
        },
        "id": "74c3faef",
        "outputId": "3098d27a-fcfd-4d82-ce25-de6cde175cc0"
      },
      "outputs": [
        {
          "output_type": "stream",
          "name": "stdout",
          "text": [
            "2 3 5 7 11 13 17 19 23 29 31 37 41 43 47 53 59 61 67 71 73 79 83 89 97 101 103 107 109 113 127 131 137 139 149 151 157 163 167 173 179 181 191 193 197 199 "
          ]
        }
      ],
      "source": [
        "def is_prime(n):\n",
        "    if n <= 1:\n",
        "        return False\n",
        "    for i in range(2, int(n**0.5)+1):\n",
        "        if n % i == 0:\n",
        "            return False\n",
        "    return True\n",
        "\n",
        "for i in range(1, 201):\n",
        "    if is_prime(i):\n",
        "        print(i, end=' ')"
      ]
    },
    {
      "cell_type": "markdown",
      "id": "042b85e1",
      "metadata": {
        "id": "042b85e1"
      },
      "source": [
        "**5. Create an iterator class in Python that generates the Fibonacci sequence up to a specified number of terms.**"
      ]
    },
    {
      "cell_type": "code",
      "execution_count": 7,
      "id": "c730f766",
      "metadata": {
        "colab": {
          "base_uri": "https://localhost:8080/"
        },
        "id": "c730f766",
        "outputId": "c47fbd75-a164-401e-be56-44e35137de68"
      },
      "outputs": [
        {
          "output_type": "stream",
          "name": "stdout",
          "text": [
            "0 1 1 2 3 5 8 13 21 34 "
          ]
        }
      ],
      "source": [
        "class Fibonacci:\n",
        "    def __init__(self, max_terms):\n",
        "        self.max_terms = max_terms\n",
        "        self.a, self.b = 0, 1\n",
        "        self.count = 0\n",
        "\n",
        "    def __iter__(self):\n",
        "        return self\n",
        "\n",
        "    def __next__(self):\n",
        "        if self.count >= self.max_terms:\n",
        "            raise StopIteration\n",
        "        val = self.a\n",
        "        self.a, self.b = self.b, self.a + self.b\n",
        "        self.count += 1\n",
        "        return val\n",
        "\n",
        "for num in Fibonacci(10):\n",
        "    print(num, end=' ')"
      ]
    },
    {
      "cell_type": "markdown",
      "id": "d079d8bc",
      "metadata": {
        "id": "d079d8bc"
      },
      "source": [
        "**6. Write a generator function in Python that yields the powers of 2 up to a given exponent.**"
      ]
    },
    {
      "cell_type": "code",
      "execution_count": 8,
      "id": "82acc718",
      "metadata": {
        "colab": {
          "base_uri": "https://localhost:8080/"
        },
        "id": "82acc718",
        "outputId": "be671676-561b-408b-9608-f40e1f4c6cdd"
      },
      "outputs": [
        {
          "output_type": "stream",
          "name": "stdout",
          "text": [
            "1\n",
            "2\n",
            "4\n",
            "8\n",
            "16\n",
            "32\n"
          ]
        }
      ],
      "source": [
        "def powers_of_two(n):\n",
        "    for i in range(n+1):\n",
        "        yield 2**i\n",
        "\n",
        "for val in powers_of_two(5):\n",
        "    print(val)"
      ]
    },
    {
      "cell_type": "markdown",
      "id": "98dd8f4b",
      "metadata": {
        "id": "98dd8f4b"
      },
      "source": [
        "**7. Implement a generator function that reads a file line by line and yields each line as a string.**"
      ]
    },
    {
      "cell_type": "code",
      "execution_count": 16,
      "id": "cc6099ba",
      "metadata": {
        "id": "cc6099ba"
      },
      "outputs": [],
      "source": [
        "def read_lines(file_path):\n",
        "    with open(file_path, 'r') as f:\n",
        "        for line in f:\n",
        "            yield line.strip()"
      ]
    },
    {
      "cell_type": "markdown",
      "id": "5398cddb",
      "metadata": {
        "id": "5398cddb"
      },
      "source": [
        "**8. Use a lambda function in Python to sort a list of tuples based on the second element of each tuple.**"
      ]
    },
    {
      "cell_type": "code",
      "execution_count": 10,
      "id": "f9d6993c",
      "metadata": {
        "colab": {
          "base_uri": "https://localhost:8080/"
        },
        "id": "f9d6993c",
        "outputId": "b03639c9-105e-4aa3-b782-7f7dbaa55cef"
      },
      "outputs": [
        {
          "output_type": "stream",
          "name": "stdout",
          "text": [
            "[(2, 1), (4, 2), (1, 3)]\n"
          ]
        }
      ],
      "source": [
        "data = [(1, 3), (2, 1), (4, 2)]\n",
        "data.sort(key=lambda x: x[1])\n",
        "print(data)"
      ]
    },
    {
      "cell_type": "markdown",
      "id": "a31506bd",
      "metadata": {
        "id": "a31506bd"
      },
      "source": [
        "**9. Write a Python program that uses `map()` to convert a list of temperatures from Celsius to Fahrenheit.**"
      ]
    },
    {
      "cell_type": "code",
      "execution_count": 12,
      "id": "67b81db0",
      "metadata": {
        "colab": {
          "base_uri": "https://localhost:8080/"
        },
        "id": "67b81db0",
        "outputId": "5b795ef9-24d1-41a9-a846-70b71b9b2630"
      },
      "outputs": [
        {
          "output_type": "stream",
          "name": "stdout",
          "text": [
            "[32.0, 50.0, 68.0, 86.0]\n"
          ]
        }
      ],
      "source": [
        "celsius = [0, 10, 20, 30]\n",
        "fahrenheit = list(map(lambda c: (c * 9/5) + 32, celsius))\n",
        "print(fahrenheit)"
      ]
    },
    {
      "cell_type": "markdown",
      "id": "5d348cad",
      "metadata": {
        "id": "5d348cad"
      },
      "source": [
        "**10. Create a Python program that uses `filter()` to remove all the vowels from a given string.**"
      ]
    },
    {
      "cell_type": "code",
      "execution_count": 13,
      "id": "0b8c15f8",
      "metadata": {
        "colab": {
          "base_uri": "https://localhost:8080/"
        },
        "id": "0b8c15f8",
        "outputId": "ccd56a9c-02ae-49d5-9a52-042cd4be4273"
      },
      "outputs": [
        {
          "output_type": "stream",
          "name": "stdout",
          "text": [
            "hll wrld\n"
          ]
        }
      ],
      "source": [
        "s = 'hello world'\n",
        "vowels = 'aeiouAEIOU'\n",
        "result = ''.join(filter(lambda x: x not in vowels, s))\n",
        "print(result)"
      ]
    },
    {
      "cell_type": "markdown",
      "id": "1a17e739",
      "metadata": {
        "id": "1a17e739"
      },
      "source": [
        "**11. Write a Python program which returns a list with 2-tuples for an accounting routine, using lambda and map.**"
      ]
    },
    {
      "cell_type": "code",
      "execution_count": 14,
      "id": "4c898ba1",
      "metadata": {
        "colab": {
          "base_uri": "https://localhost:8080/"
        },
        "id": "4c898ba1",
        "outputId": "aa83943e-988e-4972-c4ed-aaaac21f2a3c"
      },
      "outputs": [
        {
          "output_type": "stream",
          "name": "stdout",
          "text": [
            "[('order1', 50.0), ('order2', 100.0), ('order3', 60.0)]\n"
          ]
        }
      ],
      "source": [
        "orders = [\n",
        "    ['order1', 20.0, 2],\n",
        "    ['order2', 100.0, 1],\n",
        "    ['order3', 10.0, 5]\n",
        "]\n",
        "\n",
        "result = list(map(lambda o: (o[0], o[1]*o[2] if o[1]*o[2] >= 100 else o[1]*o[2]+10), orders))\n",
        "print(result)"
      ]
    }
  ],
  "metadata": {
    "colab": {
      "provenance": []
    },
    "language_info": {
      "name": "python"
    },
    "kernelspec": {
      "name": "python3",
      "display_name": "Python 3"
    }
  },
  "nbformat": 4,
  "nbformat_minor": 5
}